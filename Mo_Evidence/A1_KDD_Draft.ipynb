{
 "cells": [
  {
   "cell_type": "markdown",
   "id": "f587725d",
   "metadata": {},
   "source": [
    "### Importing"
   ]
  },
  {
   "cell_type": "code",
   "execution_count": 29,
   "id": "2f638d17",
   "metadata": {},
   "outputs": [],
   "source": [
    "import pandas as pd\n",
    "import numpy as np\n",
    "import matplotlib.pyplot as plt\n",
    "import seaborn as sns\n",
    "import math\n",
    "import requests\n",
    "from io import StringIO "
   ]
  },
  {
   "cell_type": "code",
   "execution_count": null,
   "id": "184990e8",
   "metadata": {},
   "outputs": [],
   "source": [
    "kdd_df.head()"
   ]
  },
  {
   "cell_type": "code",
   "execution_count": 50,
   "id": "1702567e",
   "metadata": {},
   "outputs": [
    {
     "data": {
      "text/html": [
       "<div>\n",
       "<style scoped>\n",
       "    .dataframe tbody tr th:only-of-type {\n",
       "        vertical-align: middle;\n",
       "    }\n",
       "\n",
       "    .dataframe tbody tr th {\n",
       "        vertical-align: top;\n",
       "    }\n",
       "\n",
       "    .dataframe thead th {\n",
       "        text-align: right;\n",
       "    }\n",
       "</style>\n",
       "<table border=\"1\" class=\"dataframe\">\n",
       "  <thead>\n",
       "    <tr style=\"text-align: right;\">\n",
       "      <th></th>\n",
       "      <th>0</th>\n",
       "      <th>1</th>\n",
       "      <th>2</th>\n",
       "      <th>3</th>\n",
       "    </tr>\n",
       "  </thead>\n",
       "  <tbody>\n",
       "    <tr>\n",
       "      <th>0</th>\n",
       "      <td>&lt;html&gt;&lt;head&gt;&lt;meta http-equiv=\"content-type\" co...</td>\n",
       "      <td>arial</td>\n",
       "      <td>sans-serif; background-color: #fff; color: #0...</td>\n",
       "      <td>we can't process your request right now.&lt;/p&gt;&lt;...</td>\n",
       "    </tr>\n",
       "  </tbody>\n",
       "</table>\n",
       "</div>"
      ],
      "text/plain": [
       "                                                   0       1  \\\n",
       "0  <html><head><meta http-equiv=\"content-type\" co...   arial   \n",
       "\n",
       "                                                   2  \\\n",
       "0   sans-serif; background-color: #fff; color: #0...   \n",
       "\n",
       "                                                   3  \n",
       "0   we can't process your request right now.</p><...  "
      ]
     },
     "execution_count": 50,
     "metadata": {},
     "output_type": "execute_result"
    }
   ],
   "source": [
    "url = 'https://drive.google.com/file/d/14fb5WPdutbn6H-XcAsKMdJV1ekZL2yyY/view?usp=sharing' \n",
    "dwn_url = 'https://drive.google.com/uc?id=' + url.split('/')[-2]\n",
    "response = requests.get(dwn_url)\n",
    "\n",
    "file_object = StringIO(response.content.decode('utf-8'))\n",
    "kdd_df = pd.read_csv(file_object,header=None)\n",
    "kdd_df.head()"
   ]
  },
  {
   "cell_type": "code",
   "execution_count": 49,
   "id": "d7ea9568",
   "metadata": {},
   "outputs": [
    {
     "ename": "TypeError",
     "evalue": "initial_value must be str or None, not bytes",
     "output_type": "error",
     "traceback": [
      "\u001b[1;31m---------------------------------------------------------------------------\u001b[0m",
      "\u001b[1;31mTypeError\u001b[0m                                 Traceback (most recent call last)",
      "\u001b[1;32m<ipython-input-49-7f6147d86af8>\u001b[0m in \u001b[0;36m<module>\u001b[1;34m\u001b[0m\n\u001b[0;32m      2\u001b[0m \u001b[0mdwn_url\u001b[0m \u001b[1;33m=\u001b[0m \u001b[1;34m'https://drive.google.com/uc?id='\u001b[0m \u001b[1;33m+\u001b[0m \u001b[0murl\u001b[0m\u001b[1;33m.\u001b[0m\u001b[0msplit\u001b[0m\u001b[1;33m(\u001b[0m\u001b[1;34m'/'\u001b[0m\u001b[1;33m)\u001b[0m\u001b[1;33m[\u001b[0m\u001b[1;33m-\u001b[0m\u001b[1;36m2\u001b[0m\u001b[1;33m]\u001b[0m\u001b[1;33m\u001b[0m\u001b[1;33m\u001b[0m\u001b[0m\n\u001b[0;32m      3\u001b[0m \u001b[0murl2\u001b[0m \u001b[1;33m=\u001b[0m \u001b[0mrequests\u001b[0m\u001b[1;33m.\u001b[0m\u001b[0mget\u001b[0m\u001b[1;33m(\u001b[0m\u001b[0mdwn_url\u001b[0m\u001b[1;33m)\u001b[0m\u001b[1;33m.\u001b[0m\u001b[0mcontent\u001b[0m\u001b[1;33m\u001b[0m\u001b[1;33m\u001b[0m\u001b[0m\n\u001b[1;32m----> 4\u001b[1;33m \u001b[0mcsv_raw\u001b[0m \u001b[1;33m=\u001b[0m \u001b[0mStringIO\u001b[0m\u001b[1;33m(\u001b[0m\u001b[0murl2\u001b[0m\u001b[1;33m)\u001b[0m\u001b[1;33m\u001b[0m\u001b[1;33m\u001b[0m\u001b[0m\n\u001b[0m\u001b[0;32m      5\u001b[0m \u001b[0mkdd_df\u001b[0m \u001b[1;33m=\u001b[0m \u001b[0mpd\u001b[0m\u001b[1;33m.\u001b[0m\u001b[0mread_csv\u001b[0m\u001b[1;33m(\u001b[0m\u001b[0mcsv_raw\u001b[0m\u001b[1;33m,\u001b[0m\u001b[0mheader\u001b[0m\u001b[1;33m=\u001b[0m\u001b[1;32mNone\u001b[0m\u001b[1;33m)\u001b[0m\u001b[1;33m\u001b[0m\u001b[1;33m\u001b[0m\u001b[0m\n\u001b[0;32m      6\u001b[0m \u001b[0mkdd_df\u001b[0m\u001b[1;33m.\u001b[0m\u001b[0mhead\u001b[0m\u001b[1;33m(\u001b[0m\u001b[1;33m)\u001b[0m\u001b[1;33m\u001b[0m\u001b[1;33m\u001b[0m\u001b[0m\n",
      "\u001b[1;31mTypeError\u001b[0m: initial_value must be str or None, not bytes"
     ]
    }
   ],
   "source": [
    "url = 'https://drive.google.com/file/d/14fb5WPdutbn6H-XcAsKMdJV1ekZL2yyY/view?usp=sharing' \n",
    "dwn_url = 'https://drive.google.com/uc?id=' + url.split('/')[-2]\n",
    "url2 = requests.get(dwn_url).content\n",
    "csv_raw = StringIO(url2)\n",
    "kdd_df = pd.read_csv(csv_raw,header=None)\n",
    "kdd_df.head()"
   ]
  },
  {
   "cell_type": "markdown",
   "id": "7308cf3b",
   "metadata": {},
   "source": [
    "### Setup and Cleaning"
   ]
  },
  {
   "cell_type": "code",
   "execution_count": 38,
   "id": "936fdf15",
   "metadata": {},
   "outputs": [
    {
     "data": {
      "text/html": [
       "<div>\n",
       "<style scoped>\n",
       "    .dataframe tbody tr th:only-of-type {\n",
       "        vertical-align: middle;\n",
       "    }\n",
       "\n",
       "    .dataframe tbody tr th {\n",
       "        vertical-align: top;\n",
       "    }\n",
       "\n",
       "    .dataframe thead th {\n",
       "        text-align: right;\n",
       "    }\n",
       "</style>\n",
       "<table border=\"1\" class=\"dataframe\">\n",
       "  <thead>\n",
       "    <tr style=\"text-align: right;\">\n",
       "      <th></th>\n",
       "      <th>0</th>\n",
       "      <th>1</th>\n",
       "      <th>2</th>\n",
       "      <th>3</th>\n",
       "    </tr>\n",
       "  </thead>\n",
       "  <tbody>\n",
       "    <tr>\n",
       "      <th>0</th>\n",
       "      <td>&lt;html&gt;&lt;head&gt;&lt;meta http-equiv=\"content-type\" co...</td>\n",
       "      <td>arial</td>\n",
       "      <td>sans-serif; background-color: #fff; color: #0...</td>\n",
       "      <td>we can't process your request right now.&lt;/p&gt;&lt;...</td>\n",
       "    </tr>\n",
       "  </tbody>\n",
       "</table>\n",
       "</div>"
      ],
      "text/plain": [
       "                                                   0       1  \\\n",
       "0  <html><head><meta http-equiv=\"content-type\" co...   arial   \n",
       "\n",
       "                                                   2  \\\n",
       "0   sans-serif; background-color: #fff; color: #0...   \n",
       "\n",
       "                                                   3  \n",
       "0   we can't process your request right now.</p><...  "
      ]
     },
     "execution_count": 38,
     "metadata": {},
     "output_type": "execute_result"
    }
   ],
   "source": [
    "#import data without header\n",
    "kdd_df = pd.read_csv(kdd_csv,header=None)\n",
    "kdd_df.head()"
   ]
  },
  {
   "cell_type": "code",
   "execution_count": 35,
   "id": "74e8b025",
   "metadata": {},
   "outputs": [
    {
     "data": {
      "text/plain": [
       "'https://drive.google.com/uc?export=download&id=14fb5WPdutbn6H-XcAsKMdJV1ekZL2yyY'"
      ]
     },
     "execution_count": 35,
     "metadata": {},
     "output_type": "execute_result"
    }
   ],
   "source": [
    "dwn_url_T"
   ]
  },
  {
   "cell_type": "code",
   "execution_count": 3,
   "id": "d71422b0",
   "metadata": {},
   "outputs": [
    {
     "name": "stdout",
     "output_type": "stream",
     "text": [
      "KDD columns: \n",
      " ['duration', 'protocol_type', 'service', 'flag', 'src_bytes', 'dst_bytes', 'land', 'wrong_fragment', 'urgent', 'hot', 'num_failed_logins', 'logged_in', 'num_compromised', 'root_shell', 'su_attempted', 'num_root', 'num_file_creations', 'num_shells', 'num_access_files', 'num_outbound_cmds', 'is_host_login', 'is_guest_login', 'count', 'srv_count', 'serror_rate', 'srv_serror_rate', 'rerror_rate', 'srv_rerror_rate', 'same_srv_rate', 'diff_srv_rate', 'srv_diff_host_rate', 'dst_host_count', 'dst_host_srv_count', 'dst_host_same_srv_rate', 'dst_host_diff_srv_rate', 'dst_host_same_src_port_rate', 'dst_host_srv_diff_host_rate', 'dst_host_serror_rate', 'dst_host_srv_serror_rate', 'dst_host_rerror_rate', 'dst_host_srv_rerror_rate', 'connection_type'] \n",
      "\n",
      "List of attack types: \n",
      " ['back', 'buffer_overflow', 'ftp_write', 'guess_passwd', 'imap', 'ipsweep', 'land', 'loadmodule', 'multihop', 'neptune', 'nmap', 'normal', 'perl', 'phf', 'pod', 'portsweep', 'rootkit', 'satan', 'smurf', 'spy', 'teardrop', 'warezclient', 'warezmaster']\n"
     ]
    }
   ],
   "source": [
    "#import column names and start cleaning them \n",
    "with open('kdd_names.txt') as f:\n",
    "    kdd_cols = f.readlines()\n",
    "    \n",
    "for i in range(1,len(kdd_cols)):\n",
    "    kdd_cols[i] = kdd_cols[i].split(':')[0].strip()\n",
    "    \n",
    "kdd_cols.append('connection_type')\n",
    "\n",
    "attack_types = kdd_cols.pop(0)\n",
    "attack_types = attack_types.split(',')\n",
    "attack_types[-1] = attack_types[-1].replace('.\\n','')\n",
    "\n",
    "print('KDD columns:', '\\n',kdd_cols, '\\n'*2+ \n",
    "      'List of attack types:','\\n',attack_types)"
   ]
  },
  {
   "cell_type": "code",
   "execution_count": 4,
   "id": "5aae9bfe",
   "metadata": {},
   "outputs": [
    {
     "data": {
      "text/html": [
       "<div>\n",
       "<style scoped>\n",
       "    .dataframe tbody tr th:only-of-type {\n",
       "        vertical-align: middle;\n",
       "    }\n",
       "\n",
       "    .dataframe tbody tr th {\n",
       "        vertical-align: top;\n",
       "    }\n",
       "\n",
       "    .dataframe thead th {\n",
       "        text-align: right;\n",
       "    }\n",
       "</style>\n",
       "<table border=\"1\" class=\"dataframe\">\n",
       "  <thead>\n",
       "    <tr style=\"text-align: right;\">\n",
       "      <th></th>\n",
       "      <th>duration</th>\n",
       "      <th>protocol_type</th>\n",
       "      <th>service</th>\n",
       "      <th>flag</th>\n",
       "      <th>src_bytes</th>\n",
       "      <th>dst_bytes</th>\n",
       "      <th>land</th>\n",
       "      <th>wrong_fragment</th>\n",
       "      <th>urgent</th>\n",
       "      <th>hot</th>\n",
       "      <th>...</th>\n",
       "      <th>dst_host_srv_count</th>\n",
       "      <th>dst_host_same_srv_rate</th>\n",
       "      <th>dst_host_diff_srv_rate</th>\n",
       "      <th>dst_host_same_src_port_rate</th>\n",
       "      <th>dst_host_srv_diff_host_rate</th>\n",
       "      <th>dst_host_serror_rate</th>\n",
       "      <th>dst_host_srv_serror_rate</th>\n",
       "      <th>dst_host_rerror_rate</th>\n",
       "      <th>dst_host_srv_rerror_rate</th>\n",
       "      <th>connection_type</th>\n",
       "    </tr>\n",
       "  </thead>\n",
       "  <tbody>\n",
       "    <tr>\n",
       "      <th>0</th>\n",
       "      <td>0</td>\n",
       "      <td>tcp</td>\n",
       "      <td>http</td>\n",
       "      <td>SF</td>\n",
       "      <td>181</td>\n",
       "      <td>5450</td>\n",
       "      <td>0</td>\n",
       "      <td>0</td>\n",
       "      <td>0</td>\n",
       "      <td>0</td>\n",
       "      <td>...</td>\n",
       "      <td>9</td>\n",
       "      <td>1.0</td>\n",
       "      <td>0.0</td>\n",
       "      <td>0.11</td>\n",
       "      <td>0.0</td>\n",
       "      <td>0.0</td>\n",
       "      <td>0.0</td>\n",
       "      <td>0.0</td>\n",
       "      <td>0.0</td>\n",
       "      <td>normal.</td>\n",
       "    </tr>\n",
       "    <tr>\n",
       "      <th>1</th>\n",
       "      <td>0</td>\n",
       "      <td>tcp</td>\n",
       "      <td>http</td>\n",
       "      <td>SF</td>\n",
       "      <td>239</td>\n",
       "      <td>486</td>\n",
       "      <td>0</td>\n",
       "      <td>0</td>\n",
       "      <td>0</td>\n",
       "      <td>0</td>\n",
       "      <td>...</td>\n",
       "      <td>19</td>\n",
       "      <td>1.0</td>\n",
       "      <td>0.0</td>\n",
       "      <td>0.05</td>\n",
       "      <td>0.0</td>\n",
       "      <td>0.0</td>\n",
       "      <td>0.0</td>\n",
       "      <td>0.0</td>\n",
       "      <td>0.0</td>\n",
       "      <td>normal.</td>\n",
       "    </tr>\n",
       "    <tr>\n",
       "      <th>2</th>\n",
       "      <td>0</td>\n",
       "      <td>tcp</td>\n",
       "      <td>http</td>\n",
       "      <td>SF</td>\n",
       "      <td>235</td>\n",
       "      <td>1337</td>\n",
       "      <td>0</td>\n",
       "      <td>0</td>\n",
       "      <td>0</td>\n",
       "      <td>0</td>\n",
       "      <td>...</td>\n",
       "      <td>29</td>\n",
       "      <td>1.0</td>\n",
       "      <td>0.0</td>\n",
       "      <td>0.03</td>\n",
       "      <td>0.0</td>\n",
       "      <td>0.0</td>\n",
       "      <td>0.0</td>\n",
       "      <td>0.0</td>\n",
       "      <td>0.0</td>\n",
       "      <td>normal.</td>\n",
       "    </tr>\n",
       "    <tr>\n",
       "      <th>3</th>\n",
       "      <td>0</td>\n",
       "      <td>tcp</td>\n",
       "      <td>http</td>\n",
       "      <td>SF</td>\n",
       "      <td>219</td>\n",
       "      <td>1337</td>\n",
       "      <td>0</td>\n",
       "      <td>0</td>\n",
       "      <td>0</td>\n",
       "      <td>0</td>\n",
       "      <td>...</td>\n",
       "      <td>39</td>\n",
       "      <td>1.0</td>\n",
       "      <td>0.0</td>\n",
       "      <td>0.03</td>\n",
       "      <td>0.0</td>\n",
       "      <td>0.0</td>\n",
       "      <td>0.0</td>\n",
       "      <td>0.0</td>\n",
       "      <td>0.0</td>\n",
       "      <td>normal.</td>\n",
       "    </tr>\n",
       "    <tr>\n",
       "      <th>4</th>\n",
       "      <td>0</td>\n",
       "      <td>tcp</td>\n",
       "      <td>http</td>\n",
       "      <td>SF</td>\n",
       "      <td>217</td>\n",
       "      <td>2032</td>\n",
       "      <td>0</td>\n",
       "      <td>0</td>\n",
       "      <td>0</td>\n",
       "      <td>0</td>\n",
       "      <td>...</td>\n",
       "      <td>49</td>\n",
       "      <td>1.0</td>\n",
       "      <td>0.0</td>\n",
       "      <td>0.02</td>\n",
       "      <td>0.0</td>\n",
       "      <td>0.0</td>\n",
       "      <td>0.0</td>\n",
       "      <td>0.0</td>\n",
       "      <td>0.0</td>\n",
       "      <td>normal.</td>\n",
       "    </tr>\n",
       "  </tbody>\n",
       "</table>\n",
       "<p>5 rows × 42 columns</p>\n",
       "</div>"
      ],
      "text/plain": [
       "   duration protocol_type service flag  src_bytes  dst_bytes  land  \\\n",
       "0         0           tcp    http   SF        181       5450     0   \n",
       "1         0           tcp    http   SF        239        486     0   \n",
       "2         0           tcp    http   SF        235       1337     0   \n",
       "3         0           tcp    http   SF        219       1337     0   \n",
       "4         0           tcp    http   SF        217       2032     0   \n",
       "\n",
       "   wrong_fragment  urgent  hot  ...  dst_host_srv_count  \\\n",
       "0               0       0    0  ...                   9   \n",
       "1               0       0    0  ...                  19   \n",
       "2               0       0    0  ...                  29   \n",
       "3               0       0    0  ...                  39   \n",
       "4               0       0    0  ...                  49   \n",
       "\n",
       "   dst_host_same_srv_rate  dst_host_diff_srv_rate  \\\n",
       "0                     1.0                     0.0   \n",
       "1                     1.0                     0.0   \n",
       "2                     1.0                     0.0   \n",
       "3                     1.0                     0.0   \n",
       "4                     1.0                     0.0   \n",
       "\n",
       "   dst_host_same_src_port_rate  dst_host_srv_diff_host_rate  \\\n",
       "0                         0.11                          0.0   \n",
       "1                         0.05                          0.0   \n",
       "2                         0.03                          0.0   \n",
       "3                         0.03                          0.0   \n",
       "4                         0.02                          0.0   \n",
       "\n",
       "   dst_host_serror_rate  dst_host_srv_serror_rate  dst_host_rerror_rate  \\\n",
       "0                   0.0                       0.0                   0.0   \n",
       "1                   0.0                       0.0                   0.0   \n",
       "2                   0.0                       0.0                   0.0   \n",
       "3                   0.0                       0.0                   0.0   \n",
       "4                   0.0                       0.0                   0.0   \n",
       "\n",
       "   dst_host_srv_rerror_rate  connection_type  \n",
       "0                       0.0          normal.  \n",
       "1                       0.0          normal.  \n",
       "2                       0.0          normal.  \n",
       "3                       0.0          normal.  \n",
       "4                       0.0          normal.  \n",
       "\n",
       "[5 rows x 42 columns]"
      ]
     },
     "execution_count": 4,
     "metadata": {},
     "output_type": "execute_result"
    }
   ],
   "source": [
    "#set correct columns\n",
    "kdd_df.columns = kdd_cols\n",
    "kdd_df.head()"
   ]
  },
  {
   "cell_type": "code",
   "execution_count": 5,
   "id": "a1222520",
   "metadata": {},
   "outputs": [
    {
     "data": {
      "text/plain": [
       "smurf.              280790\n",
       "neptune.            107201\n",
       "normal.              97278\n",
       "back.                 2203\n",
       "satan.                1589\n",
       "ipsweep.              1247\n",
       "portsweep.            1040\n",
       "warezclient.          1020\n",
       "teardrop.              979\n",
       "pod.                   264\n",
       "nmap.                  231\n",
       "guess_passwd.           53\n",
       "buffer_overflow.        30\n",
       "land.                   21\n",
       "warezmaster.            20\n",
       "imap.                   12\n",
       "rootkit.                10\n",
       "loadmodule.              9\n",
       "ftp_write.               8\n",
       "multihop.                7\n",
       "phf.                     4\n",
       "perl.                    3\n",
       "spy.                     2\n",
       "Name: connection_type, dtype: int64"
      ]
     },
     "execution_count": 5,
     "metadata": {},
     "output_type": "execute_result"
    }
   ],
   "source": [
    "kdd_df.connection_type.value_counts()"
   ]
  },
  {
   "cell_type": "code",
   "execution_count": 6,
   "id": "ef0612d3",
   "metadata": {},
   "outputs": [
    {
     "data": {
      "text/plain": [
       "<bound method Series.unique of 0         normal\n",
       "1         normal\n",
       "2         normal\n",
       "3         normal\n",
       "4         normal\n",
       "           ...  \n",
       "494016    normal\n",
       "494017    normal\n",
       "494018    normal\n",
       "494019    normal\n",
       "494020    normal\n",
       "Name: connection_type, Length: 494021, dtype: object>"
      ]
     },
     "execution_count": 6,
     "metadata": {},
     "output_type": "execute_result"
    }
   ],
   "source": [
    "#clean connection types\n",
    "kdd_df.connection_type = kdd_df.connection_type.apply(lambda x: x.replace('.',''))\n",
    "kdd_df.connection_type.unique"
   ]
  },
  {
   "cell_type": "code",
   "execution_count": 7,
   "id": "49aeb911",
   "metadata": {},
   "outputs": [
    {
     "data": {
      "text/html": [
       "<div>\n",
       "<style scoped>\n",
       "    .dataframe tbody tr th:only-of-type {\n",
       "        vertical-align: middle;\n",
       "    }\n",
       "\n",
       "    .dataframe tbody tr th {\n",
       "        vertical-align: top;\n",
       "    }\n",
       "\n",
       "    .dataframe thead th {\n",
       "        text-align: right;\n",
       "    }\n",
       "</style>\n",
       "<table border=\"1\" class=\"dataframe\">\n",
       "  <thead>\n",
       "    <tr style=\"text-align: right;\">\n",
       "      <th></th>\n",
       "      <th>type</th>\n",
       "      <th>category</th>\n",
       "    </tr>\n",
       "  </thead>\n",
       "  <tbody>\n",
       "    <tr>\n",
       "      <th>0</th>\n",
       "      <td>back</td>\n",
       "      <td>dos</td>\n",
       "    </tr>\n",
       "    <tr>\n",
       "      <th>1</th>\n",
       "      <td>buffer_overflow</td>\n",
       "      <td>u2r</td>\n",
       "    </tr>\n",
       "    <tr>\n",
       "      <th>2</th>\n",
       "      <td>ftp_write</td>\n",
       "      <td>r2l</td>\n",
       "    </tr>\n",
       "    <tr>\n",
       "      <th>3</th>\n",
       "      <td>guess_passwd</td>\n",
       "      <td>r2l</td>\n",
       "    </tr>\n",
       "    <tr>\n",
       "      <th>4</th>\n",
       "      <td>imap</td>\n",
       "      <td>r2l</td>\n",
       "    </tr>\n",
       "  </tbody>\n",
       "</table>\n",
       "</div>"
      ],
      "text/plain": [
       "              type category\n",
       "0             back      dos\n",
       "1  buffer_overflow      u2r\n",
       "2        ftp_write      r2l\n",
       "3     guess_passwd      r2l\n",
       "4             imap      r2l"
      ]
     },
     "execution_count": 7,
     "metadata": {},
     "output_type": "execute_result"
    }
   ],
   "source": [
    "#read attack types and their respective category\n",
    "connections_df = pd.read_csv('training_attack_types.txt',sep=' ',header=None)\n",
    "connections_df.columns = ['type','category']\n",
    "\n",
    "#normal connections are not listed in this .txt file so we add them\n",
    "connections_df = connections_df.append({'type':'normal','category':'normal'},ignore_index=True)\n",
    "connections_df.head()"
   ]
  },
  {
   "cell_type": "code",
   "execution_count": 8,
   "id": "9813c066",
   "metadata": {
    "scrolled": false
   },
   "outputs": [
    {
     "data": {
      "text/plain": [
       "{'back': 'dos',\n",
       " 'buffer_overflow': 'u2r',\n",
       " 'ftp_write': 'r2l',\n",
       " 'guess_passwd': 'r2l',\n",
       " 'imap': 'r2l',\n",
       " 'ipsweep': 'probe',\n",
       " 'land': 'dos',\n",
       " 'loadmodule': 'u2r',\n",
       " 'multihop': 'r2l',\n",
       " 'neptune': 'dos',\n",
       " 'nmap': 'probe',\n",
       " 'perl': 'u2r',\n",
       " 'phf': 'r2l',\n",
       " 'pod': 'dos',\n",
       " 'portsweep': 'probe',\n",
       " 'rootkit': 'u2r',\n",
       " 'satan': 'probe',\n",
       " 'smurf': 'dos',\n",
       " 'spy': 'r2l',\n",
       " 'teardrop': 'dos',\n",
       " 'warezclient': 'r2l',\n",
       " 'warezmaster': 'r2l',\n",
       " 'normal': 'normal'}"
      ]
     },
     "execution_count": 8,
     "metadata": {},
     "output_type": "execute_result"
    }
   ],
   "source": [
    "#create dict of connection type and resp. category\n",
    "connections_dict = {}\n",
    "\n",
    "for i in range(len(connections_df)):\n",
    "    row = connections_df.iloc[i]\n",
    "    key = row['type']\n",
    "    val = row['category']\n",
    "    \n",
    "    connections_dict[key] = val\n",
    "    \n",
    "connections_dict"
   ]
  },
  {
   "cell_type": "code",
   "execution_count": 9,
   "id": "cc83375c",
   "metadata": {},
   "outputs": [
    {
     "data": {
      "text/plain": [
       "connection_type  connection_category\n",
       "smurf            dos                    280790\n",
       "neptune          dos                    107201\n",
       "normal           normal                  97278\n",
       "back             dos                      2203\n",
       "satan            probe                    1589\n",
       "ipsweep          probe                    1247\n",
       "portsweep        probe                    1040\n",
       "warezclient      r2l                      1020\n",
       "teardrop         dos                       979\n",
       "pod              dos                       264\n",
       "nmap             probe                     231\n",
       "guess_passwd     r2l                        53\n",
       "buffer_overflow  u2r                        30\n",
       "land             dos                        21\n",
       "warezmaster      r2l                        20\n",
       "imap             r2l                        12\n",
       "rootkit          u2r                        10\n",
       "loadmodule       u2r                         9\n",
       "ftp_write        r2l                         8\n",
       "multihop         r2l                         7\n",
       "phf              r2l                         4\n",
       "perl             u2r                         3\n",
       "spy              r2l                         2\n",
       "dtype: int64"
      ]
     },
     "execution_count": 9,
     "metadata": {},
     "output_type": "execute_result"
    }
   ],
   "source": [
    "#map each connection to its category\n",
    "kdd_df['connection_category'] = kdd_df['connection_type'].apply(lambda x: connections_dict[x])\n",
    "kdd_df[['connection_type','connection_category']].value_counts()"
   ]
  },
  {
   "cell_type": "code",
   "execution_count": 10,
   "id": "01001706",
   "metadata": {},
   "outputs": [
    {
     "data": {
      "text/plain": [
       "dos       391458\n",
       "normal     97278\n",
       "probe       4107\n",
       "r2l         1126\n",
       "u2r           52\n",
       "Name: connection_category, dtype: int64"
      ]
     },
     "execution_count": 10,
     "metadata": {},
     "output_type": "execute_result"
    }
   ],
   "source": [
    "kdd_df['connection_category'].value_counts()"
   ]
  },
  {
   "cell_type": "code",
   "execution_count": 11,
   "id": "1c6f26be",
   "metadata": {},
   "outputs": [
    {
     "name": "stdout",
     "output_type": "stream",
     "text": [
      "count    494021.0\n",
      "mean          0.0\n",
      "std           0.0\n",
      "min           0.0\n",
      "25%           0.0\n",
      "50%           0.0\n",
      "75%           0.0\n",
      "max           0.0\n",
      "Name: num_outbound_cmds, dtype: float64\n",
      "\n",
      "count    494021.0\n",
      "mean          0.0\n",
      "std           0.0\n",
      "min           0.0\n",
      "25%           0.0\n",
      "50%           0.0\n",
      "75%           0.0\n",
      "max           0.0\n",
      "Name: is_host_login, dtype: float64\n",
      "\n"
     ]
    }
   ],
   "source": [
    "#faster way to find and remove uplicated num values\n",
    "kdt = kdd_df.describe().transpose()\n",
    "\n",
    "useless_rows = []\n",
    "\n",
    "for i in range(len(kdt)):\n",
    "    row = kdt.iloc[i]\n",
    "    mu = row['mean']\n",
    "    sigma = row['std']\n",
    "    q1 = row['25%']\n",
    "    q2 = row['50%']\n",
    "    q3 = row['75%']\n",
    "    mx = row['max']\n",
    "    \n",
    "    if mu==sigma and sigma==q1 and q1==q2 and q2==q3 and q3==mx:\n",
    "        print(row)\n",
    "        print()\n",
    "        useless_rows.append(row.name)"
   ]
  },
  {
   "cell_type": "code",
   "execution_count": 12,
   "id": "c6959106",
   "metadata": {},
   "outputs": [],
   "source": [
    "#remove dupe rows\n",
    "for row in useless_rows:\n",
    "    kdd_df.drop(row,axis=1,inplace=True)"
   ]
  },
  {
   "cell_type": "code",
   "execution_count": 13,
   "id": "126d2a87",
   "metadata": {},
   "outputs": [
    {
     "name": "stdout",
     "output_type": "stream",
     "text": [
      "<class 'pandas.core.frame.DataFrame'>\n",
      "RangeIndex: 494021 entries, 0 to 494020\n",
      "Data columns (total 41 columns):\n",
      " #   Column                       Non-Null Count   Dtype  \n",
      "---  ------                       --------------   -----  \n",
      " 0   duration                     494021 non-null  int64  \n",
      " 1   protocol_type                494021 non-null  object \n",
      " 2   service                      494021 non-null  object \n",
      " 3   flag                         494021 non-null  object \n",
      " 4   src_bytes                    494021 non-null  int64  \n",
      " 5   dst_bytes                    494021 non-null  int64  \n",
      " 6   land                         494021 non-null  int64  \n",
      " 7   wrong_fragment               494021 non-null  int64  \n",
      " 8   urgent                       494021 non-null  int64  \n",
      " 9   hot                          494021 non-null  int64  \n",
      " 10  num_failed_logins            494021 non-null  int64  \n",
      " 11  logged_in                    494021 non-null  int64  \n",
      " 12  num_compromised              494021 non-null  int64  \n",
      " 13  root_shell                   494021 non-null  int64  \n",
      " 14  su_attempted                 494021 non-null  int64  \n",
      " 15  num_root                     494021 non-null  int64  \n",
      " 16  num_file_creations           494021 non-null  int64  \n",
      " 17  num_shells                   494021 non-null  int64  \n",
      " 18  num_access_files             494021 non-null  int64  \n",
      " 19  is_guest_login               494021 non-null  int64  \n",
      " 20  count                        494021 non-null  int64  \n",
      " 21  srv_count                    494021 non-null  int64  \n",
      " 22  serror_rate                  494021 non-null  float64\n",
      " 23  srv_serror_rate              494021 non-null  float64\n",
      " 24  rerror_rate                  494021 non-null  float64\n",
      " 25  srv_rerror_rate              494021 non-null  float64\n",
      " 26  same_srv_rate                494021 non-null  float64\n",
      " 27  diff_srv_rate                494021 non-null  float64\n",
      " 28  srv_diff_host_rate           494021 non-null  float64\n",
      " 29  dst_host_count               494021 non-null  int64  \n",
      " 30  dst_host_srv_count           494021 non-null  int64  \n",
      " 31  dst_host_same_srv_rate       494021 non-null  float64\n",
      " 32  dst_host_diff_srv_rate       494021 non-null  float64\n",
      " 33  dst_host_same_src_port_rate  494021 non-null  float64\n",
      " 34  dst_host_srv_diff_host_rate  494021 non-null  float64\n",
      " 35  dst_host_serror_rate         494021 non-null  float64\n",
      " 36  dst_host_srv_serror_rate     494021 non-null  float64\n",
      " 37  dst_host_rerror_rate         494021 non-null  float64\n",
      " 38  dst_host_srv_rerror_rate     494021 non-null  float64\n",
      " 39  connection_type              494021 non-null  object \n",
      " 40  connection_category          494021 non-null  object \n",
      "dtypes: float64(15), int64(21), object(5)\n",
      "memory usage: 154.5+ MB\n"
     ]
    }
   ],
   "source": [
    "#41 instead of 43 rows\n",
    "kdd_df.info()"
   ]
  },
  {
   "cell_type": "markdown",
   "id": "76048f00",
   "metadata": {},
   "source": [
    "### Exploration"
   ]
  },
  {
   "cell_type": "code",
   "execution_count": 15,
   "id": "61aefdcb",
   "metadata": {},
   "outputs": [
    {
     "data": {
      "text/html": [
       "<div>\n",
       "<style scoped>\n",
       "    .dataframe tbody tr th:only-of-type {\n",
       "        vertical-align: middle;\n",
       "    }\n",
       "\n",
       "    .dataframe tbody tr th {\n",
       "        vertical-align: top;\n",
       "    }\n",
       "\n",
       "    .dataframe thead th {\n",
       "        text-align: right;\n",
       "    }\n",
       "</style>\n",
       "<table border=\"1\" class=\"dataframe\">\n",
       "  <thead>\n",
       "    <tr style=\"text-align: right;\">\n",
       "      <th></th>\n",
       "      <th>duration</th>\n",
       "      <th>src_bytes</th>\n",
       "      <th>dst_bytes</th>\n",
       "      <th>land</th>\n",
       "      <th>wrong_fragment</th>\n",
       "      <th>urgent</th>\n",
       "      <th>hot</th>\n",
       "      <th>num_failed_logins</th>\n",
       "      <th>logged_in</th>\n",
       "      <th>num_compromised</th>\n",
       "      <th>...</th>\n",
       "      <th>dst_host_count</th>\n",
       "      <th>dst_host_srv_count</th>\n",
       "      <th>dst_host_same_srv_rate</th>\n",
       "      <th>dst_host_diff_srv_rate</th>\n",
       "      <th>dst_host_same_src_port_rate</th>\n",
       "      <th>dst_host_srv_diff_host_rate</th>\n",
       "      <th>dst_host_serror_rate</th>\n",
       "      <th>dst_host_srv_serror_rate</th>\n",
       "      <th>dst_host_rerror_rate</th>\n",
       "      <th>dst_host_srv_rerror_rate</th>\n",
       "    </tr>\n",
       "  </thead>\n",
       "  <tbody>\n",
       "    <tr>\n",
       "      <th>count</th>\n",
       "      <td>494021.000000</td>\n",
       "      <td>4.940210e+05</td>\n",
       "      <td>4.940210e+05</td>\n",
       "      <td>494021.000000</td>\n",
       "      <td>494021.000000</td>\n",
       "      <td>494021.000000</td>\n",
       "      <td>494021.000000</td>\n",
       "      <td>494021.000000</td>\n",
       "      <td>494021.000000</td>\n",
       "      <td>494021.000000</td>\n",
       "      <td>...</td>\n",
       "      <td>494021.000000</td>\n",
       "      <td>494021.000000</td>\n",
       "      <td>494021.000000</td>\n",
       "      <td>494021.000000</td>\n",
       "      <td>494021.000000</td>\n",
       "      <td>494021.000000</td>\n",
       "      <td>494021.000000</td>\n",
       "      <td>494021.000000</td>\n",
       "      <td>494021.000000</td>\n",
       "      <td>494021.000000</td>\n",
       "    </tr>\n",
       "    <tr>\n",
       "      <th>mean</th>\n",
       "      <td>47.979302</td>\n",
       "      <td>3.025610e+03</td>\n",
       "      <td>8.685324e+02</td>\n",
       "      <td>0.000045</td>\n",
       "      <td>0.006433</td>\n",
       "      <td>0.000014</td>\n",
       "      <td>0.034519</td>\n",
       "      <td>0.000152</td>\n",
       "      <td>0.148247</td>\n",
       "      <td>0.010212</td>\n",
       "      <td>...</td>\n",
       "      <td>232.470778</td>\n",
       "      <td>188.665670</td>\n",
       "      <td>0.753780</td>\n",
       "      <td>0.030906</td>\n",
       "      <td>0.601935</td>\n",
       "      <td>0.006684</td>\n",
       "      <td>0.176754</td>\n",
       "      <td>0.176443</td>\n",
       "      <td>0.058118</td>\n",
       "      <td>0.057412</td>\n",
       "    </tr>\n",
       "    <tr>\n",
       "      <th>std</th>\n",
       "      <td>707.746472</td>\n",
       "      <td>9.882181e+05</td>\n",
       "      <td>3.304000e+04</td>\n",
       "      <td>0.006673</td>\n",
       "      <td>0.134805</td>\n",
       "      <td>0.005510</td>\n",
       "      <td>0.782103</td>\n",
       "      <td>0.015520</td>\n",
       "      <td>0.355345</td>\n",
       "      <td>1.798326</td>\n",
       "      <td>...</td>\n",
       "      <td>64.745380</td>\n",
       "      <td>106.040437</td>\n",
       "      <td>0.410781</td>\n",
       "      <td>0.109259</td>\n",
       "      <td>0.481309</td>\n",
       "      <td>0.042133</td>\n",
       "      <td>0.380593</td>\n",
       "      <td>0.380919</td>\n",
       "      <td>0.230590</td>\n",
       "      <td>0.230140</td>\n",
       "    </tr>\n",
       "    <tr>\n",
       "      <th>min</th>\n",
       "      <td>0.000000</td>\n",
       "      <td>0.000000e+00</td>\n",
       "      <td>0.000000e+00</td>\n",
       "      <td>0.000000</td>\n",
       "      <td>0.000000</td>\n",
       "      <td>0.000000</td>\n",
       "      <td>0.000000</td>\n",
       "      <td>0.000000</td>\n",
       "      <td>0.000000</td>\n",
       "      <td>0.000000</td>\n",
       "      <td>...</td>\n",
       "      <td>0.000000</td>\n",
       "      <td>0.000000</td>\n",
       "      <td>0.000000</td>\n",
       "      <td>0.000000</td>\n",
       "      <td>0.000000</td>\n",
       "      <td>0.000000</td>\n",
       "      <td>0.000000</td>\n",
       "      <td>0.000000</td>\n",
       "      <td>0.000000</td>\n",
       "      <td>0.000000</td>\n",
       "    </tr>\n",
       "    <tr>\n",
       "      <th>25%</th>\n",
       "      <td>0.000000</td>\n",
       "      <td>4.500000e+01</td>\n",
       "      <td>0.000000e+00</td>\n",
       "      <td>0.000000</td>\n",
       "      <td>0.000000</td>\n",
       "      <td>0.000000</td>\n",
       "      <td>0.000000</td>\n",
       "      <td>0.000000</td>\n",
       "      <td>0.000000</td>\n",
       "      <td>0.000000</td>\n",
       "      <td>...</td>\n",
       "      <td>255.000000</td>\n",
       "      <td>46.000000</td>\n",
       "      <td>0.410000</td>\n",
       "      <td>0.000000</td>\n",
       "      <td>0.000000</td>\n",
       "      <td>0.000000</td>\n",
       "      <td>0.000000</td>\n",
       "      <td>0.000000</td>\n",
       "      <td>0.000000</td>\n",
       "      <td>0.000000</td>\n",
       "    </tr>\n",
       "    <tr>\n",
       "      <th>50%</th>\n",
       "      <td>0.000000</td>\n",
       "      <td>5.200000e+02</td>\n",
       "      <td>0.000000e+00</td>\n",
       "      <td>0.000000</td>\n",
       "      <td>0.000000</td>\n",
       "      <td>0.000000</td>\n",
       "      <td>0.000000</td>\n",
       "      <td>0.000000</td>\n",
       "      <td>0.000000</td>\n",
       "      <td>0.000000</td>\n",
       "      <td>...</td>\n",
       "      <td>255.000000</td>\n",
       "      <td>255.000000</td>\n",
       "      <td>1.000000</td>\n",
       "      <td>0.000000</td>\n",
       "      <td>1.000000</td>\n",
       "      <td>0.000000</td>\n",
       "      <td>0.000000</td>\n",
       "      <td>0.000000</td>\n",
       "      <td>0.000000</td>\n",
       "      <td>0.000000</td>\n",
       "    </tr>\n",
       "    <tr>\n",
       "      <th>75%</th>\n",
       "      <td>0.000000</td>\n",
       "      <td>1.032000e+03</td>\n",
       "      <td>0.000000e+00</td>\n",
       "      <td>0.000000</td>\n",
       "      <td>0.000000</td>\n",
       "      <td>0.000000</td>\n",
       "      <td>0.000000</td>\n",
       "      <td>0.000000</td>\n",
       "      <td>0.000000</td>\n",
       "      <td>0.000000</td>\n",
       "      <td>...</td>\n",
       "      <td>255.000000</td>\n",
       "      <td>255.000000</td>\n",
       "      <td>1.000000</td>\n",
       "      <td>0.040000</td>\n",
       "      <td>1.000000</td>\n",
       "      <td>0.000000</td>\n",
       "      <td>0.000000</td>\n",
       "      <td>0.000000</td>\n",
       "      <td>0.000000</td>\n",
       "      <td>0.000000</td>\n",
       "    </tr>\n",
       "    <tr>\n",
       "      <th>max</th>\n",
       "      <td>58329.000000</td>\n",
       "      <td>6.933756e+08</td>\n",
       "      <td>5.155468e+06</td>\n",
       "      <td>1.000000</td>\n",
       "      <td>3.000000</td>\n",
       "      <td>3.000000</td>\n",
       "      <td>30.000000</td>\n",
       "      <td>5.000000</td>\n",
       "      <td>1.000000</td>\n",
       "      <td>884.000000</td>\n",
       "      <td>...</td>\n",
       "      <td>255.000000</td>\n",
       "      <td>255.000000</td>\n",
       "      <td>1.000000</td>\n",
       "      <td>1.000000</td>\n",
       "      <td>1.000000</td>\n",
       "      <td>1.000000</td>\n",
       "      <td>1.000000</td>\n",
       "      <td>1.000000</td>\n",
       "      <td>1.000000</td>\n",
       "      <td>1.000000</td>\n",
       "    </tr>\n",
       "  </tbody>\n",
       "</table>\n",
       "<p>8 rows × 36 columns</p>\n",
       "</div>"
      ],
      "text/plain": [
       "            duration     src_bytes     dst_bytes           land  \\\n",
       "count  494021.000000  4.940210e+05  4.940210e+05  494021.000000   \n",
       "mean       47.979302  3.025610e+03  8.685324e+02       0.000045   \n",
       "std       707.746472  9.882181e+05  3.304000e+04       0.006673   \n",
       "min         0.000000  0.000000e+00  0.000000e+00       0.000000   \n",
       "25%         0.000000  4.500000e+01  0.000000e+00       0.000000   \n",
       "50%         0.000000  5.200000e+02  0.000000e+00       0.000000   \n",
       "75%         0.000000  1.032000e+03  0.000000e+00       0.000000   \n",
       "max     58329.000000  6.933756e+08  5.155468e+06       1.000000   \n",
       "\n",
       "       wrong_fragment         urgent            hot  num_failed_logins  \\\n",
       "count   494021.000000  494021.000000  494021.000000      494021.000000   \n",
       "mean         0.006433       0.000014       0.034519           0.000152   \n",
       "std          0.134805       0.005510       0.782103           0.015520   \n",
       "min          0.000000       0.000000       0.000000           0.000000   \n",
       "25%          0.000000       0.000000       0.000000           0.000000   \n",
       "50%          0.000000       0.000000       0.000000           0.000000   \n",
       "75%          0.000000       0.000000       0.000000           0.000000   \n",
       "max          3.000000       3.000000      30.000000           5.000000   \n",
       "\n",
       "           logged_in  num_compromised  ...  dst_host_count  \\\n",
       "count  494021.000000    494021.000000  ...   494021.000000   \n",
       "mean        0.148247         0.010212  ...      232.470778   \n",
       "std         0.355345         1.798326  ...       64.745380   \n",
       "min         0.000000         0.000000  ...        0.000000   \n",
       "25%         0.000000         0.000000  ...      255.000000   \n",
       "50%         0.000000         0.000000  ...      255.000000   \n",
       "75%         0.000000         0.000000  ...      255.000000   \n",
       "max         1.000000       884.000000  ...      255.000000   \n",
       "\n",
       "       dst_host_srv_count  dst_host_same_srv_rate  dst_host_diff_srv_rate  \\\n",
       "count       494021.000000           494021.000000           494021.000000   \n",
       "mean           188.665670                0.753780                0.030906   \n",
       "std            106.040437                0.410781                0.109259   \n",
       "min              0.000000                0.000000                0.000000   \n",
       "25%             46.000000                0.410000                0.000000   \n",
       "50%            255.000000                1.000000                0.000000   \n",
       "75%            255.000000                1.000000                0.040000   \n",
       "max            255.000000                1.000000                1.000000   \n",
       "\n",
       "       dst_host_same_src_port_rate  dst_host_srv_diff_host_rate  \\\n",
       "count                494021.000000                494021.000000   \n",
       "mean                      0.601935                     0.006684   \n",
       "std                       0.481309                     0.042133   \n",
       "min                       0.000000                     0.000000   \n",
       "25%                       0.000000                     0.000000   \n",
       "50%                       1.000000                     0.000000   \n",
       "75%                       1.000000                     0.000000   \n",
       "max                       1.000000                     1.000000   \n",
       "\n",
       "       dst_host_serror_rate  dst_host_srv_serror_rate  dst_host_rerror_rate  \\\n",
       "count         494021.000000             494021.000000         494021.000000   \n",
       "mean               0.176754                  0.176443              0.058118   \n",
       "std                0.380593                  0.380919              0.230590   \n",
       "min                0.000000                  0.000000              0.000000   \n",
       "25%                0.000000                  0.000000              0.000000   \n",
       "50%                0.000000                  0.000000              0.000000   \n",
       "75%                0.000000                  0.000000              0.000000   \n",
       "max                1.000000                  1.000000              1.000000   \n",
       "\n",
       "       dst_host_srv_rerror_rate  \n",
       "count             494021.000000  \n",
       "mean                   0.057412  \n",
       "std                    0.230140  \n",
       "min                    0.000000  \n",
       "25%                    0.000000  \n",
       "50%                    0.000000  \n",
       "75%                    0.000000  \n",
       "max                    1.000000  \n",
       "\n",
       "[8 rows x 36 columns]"
      ]
     },
     "execution_count": 15,
     "metadata": {},
     "output_type": "execute_result"
    }
   ],
   "source": [
    "kdd_df.describe()"
   ]
  },
  {
   "cell_type": "code",
   "execution_count": 16,
   "id": "b3c834b4",
   "metadata": {},
   "outputs": [
    {
     "data": {
      "text/html": [
       "<div>\n",
       "<style scoped>\n",
       "    .dataframe tbody tr th:only-of-type {\n",
       "        vertical-align: middle;\n",
       "    }\n",
       "\n",
       "    .dataframe tbody tr th {\n",
       "        vertical-align: top;\n",
       "    }\n",
       "\n",
       "    .dataframe thead th {\n",
       "        text-align: right;\n",
       "    }\n",
       "</style>\n",
       "<table border=\"1\" class=\"dataframe\">\n",
       "  <thead>\n",
       "    <tr style=\"text-align: right;\">\n",
       "      <th></th>\n",
       "      <th>duration</th>\n",
       "      <th>src_bytes</th>\n",
       "      <th>dst_bytes</th>\n",
       "      <th>land</th>\n",
       "      <th>wrong_fragment</th>\n",
       "      <th>urgent</th>\n",
       "      <th>hot</th>\n",
       "      <th>num_failed_logins</th>\n",
       "      <th>logged_in</th>\n",
       "      <th>num_compromised</th>\n",
       "      <th>...</th>\n",
       "      <th>dst_host_count</th>\n",
       "      <th>dst_host_srv_count</th>\n",
       "      <th>dst_host_same_srv_rate</th>\n",
       "      <th>dst_host_diff_srv_rate</th>\n",
       "      <th>dst_host_same_src_port_rate</th>\n",
       "      <th>dst_host_srv_diff_host_rate</th>\n",
       "      <th>dst_host_serror_rate</th>\n",
       "      <th>dst_host_srv_serror_rate</th>\n",
       "      <th>dst_host_rerror_rate</th>\n",
       "      <th>dst_host_srv_rerror_rate</th>\n",
       "    </tr>\n",
       "  </thead>\n",
       "  <tbody>\n",
       "    <tr>\n",
       "      <th>0</th>\n",
       "      <td>0.0</td>\n",
       "      <td>181.0</td>\n",
       "      <td>5450.0</td>\n",
       "      <td>0.0</td>\n",
       "      <td>0.0</td>\n",
       "      <td>0.0</td>\n",
       "      <td>0.0</td>\n",
       "      <td>0.0</td>\n",
       "      <td>1.0</td>\n",
       "      <td>0.0</td>\n",
       "      <td>...</td>\n",
       "      <td>9.0</td>\n",
       "      <td>9.0</td>\n",
       "      <td>1.0</td>\n",
       "      <td>0.0</td>\n",
       "      <td>0.11</td>\n",
       "      <td>0.0</td>\n",
       "      <td>0.0</td>\n",
       "      <td>0.0</td>\n",
       "      <td>0.0</td>\n",
       "      <td>0.0</td>\n",
       "    </tr>\n",
       "    <tr>\n",
       "      <th>1</th>\n",
       "      <td>0.0</td>\n",
       "      <td>239.0</td>\n",
       "      <td>486.0</td>\n",
       "      <td>0.0</td>\n",
       "      <td>0.0</td>\n",
       "      <td>0.0</td>\n",
       "      <td>0.0</td>\n",
       "      <td>0.0</td>\n",
       "      <td>1.0</td>\n",
       "      <td>0.0</td>\n",
       "      <td>...</td>\n",
       "      <td>19.0</td>\n",
       "      <td>19.0</td>\n",
       "      <td>1.0</td>\n",
       "      <td>0.0</td>\n",
       "      <td>0.05</td>\n",
       "      <td>0.0</td>\n",
       "      <td>0.0</td>\n",
       "      <td>0.0</td>\n",
       "      <td>0.0</td>\n",
       "      <td>0.0</td>\n",
       "    </tr>\n",
       "    <tr>\n",
       "      <th>2</th>\n",
       "      <td>0.0</td>\n",
       "      <td>235.0</td>\n",
       "      <td>1337.0</td>\n",
       "      <td>0.0</td>\n",
       "      <td>0.0</td>\n",
       "      <td>0.0</td>\n",
       "      <td>0.0</td>\n",
       "      <td>0.0</td>\n",
       "      <td>1.0</td>\n",
       "      <td>0.0</td>\n",
       "      <td>...</td>\n",
       "      <td>29.0</td>\n",
       "      <td>29.0</td>\n",
       "      <td>1.0</td>\n",
       "      <td>0.0</td>\n",
       "      <td>0.03</td>\n",
       "      <td>0.0</td>\n",
       "      <td>0.0</td>\n",
       "      <td>0.0</td>\n",
       "      <td>0.0</td>\n",
       "      <td>0.0</td>\n",
       "    </tr>\n",
       "    <tr>\n",
       "      <th>3</th>\n",
       "      <td>0.0</td>\n",
       "      <td>219.0</td>\n",
       "      <td>1337.0</td>\n",
       "      <td>0.0</td>\n",
       "      <td>0.0</td>\n",
       "      <td>0.0</td>\n",
       "      <td>0.0</td>\n",
       "      <td>0.0</td>\n",
       "      <td>1.0</td>\n",
       "      <td>0.0</td>\n",
       "      <td>...</td>\n",
       "      <td>39.0</td>\n",
       "      <td>39.0</td>\n",
       "      <td>1.0</td>\n",
       "      <td>0.0</td>\n",
       "      <td>0.03</td>\n",
       "      <td>0.0</td>\n",
       "      <td>0.0</td>\n",
       "      <td>0.0</td>\n",
       "      <td>0.0</td>\n",
       "      <td>0.0</td>\n",
       "    </tr>\n",
       "    <tr>\n",
       "      <th>4</th>\n",
       "      <td>0.0</td>\n",
       "      <td>217.0</td>\n",
       "      <td>2032.0</td>\n",
       "      <td>0.0</td>\n",
       "      <td>0.0</td>\n",
       "      <td>0.0</td>\n",
       "      <td>0.0</td>\n",
       "      <td>0.0</td>\n",
       "      <td>1.0</td>\n",
       "      <td>0.0</td>\n",
       "      <td>...</td>\n",
       "      <td>49.0</td>\n",
       "      <td>49.0</td>\n",
       "      <td>1.0</td>\n",
       "      <td>0.0</td>\n",
       "      <td>0.02</td>\n",
       "      <td>0.0</td>\n",
       "      <td>0.0</td>\n",
       "      <td>0.0</td>\n",
       "      <td>0.0</td>\n",
       "      <td>0.0</td>\n",
       "    </tr>\n",
       "  </tbody>\n",
       "</table>\n",
       "<p>5 rows × 36 columns</p>\n",
       "</div>"
      ],
      "text/plain": [
       "   duration  src_bytes  dst_bytes  land  wrong_fragment  urgent  hot  \\\n",
       "0       0.0      181.0     5450.0   0.0             0.0     0.0  0.0   \n",
       "1       0.0      239.0      486.0   0.0             0.0     0.0  0.0   \n",
       "2       0.0      235.0     1337.0   0.0             0.0     0.0  0.0   \n",
       "3       0.0      219.0     1337.0   0.0             0.0     0.0  0.0   \n",
       "4       0.0      217.0     2032.0   0.0             0.0     0.0  0.0   \n",
       "\n",
       "   num_failed_logins  logged_in  num_compromised  ...  dst_host_count  \\\n",
       "0                0.0        1.0              0.0  ...             9.0   \n",
       "1                0.0        1.0              0.0  ...            19.0   \n",
       "2                0.0        1.0              0.0  ...            29.0   \n",
       "3                0.0        1.0              0.0  ...            39.0   \n",
       "4                0.0        1.0              0.0  ...            49.0   \n",
       "\n",
       "   dst_host_srv_count  dst_host_same_srv_rate  dst_host_diff_srv_rate  \\\n",
       "0                 9.0                     1.0                     0.0   \n",
       "1                19.0                     1.0                     0.0   \n",
       "2                29.0                     1.0                     0.0   \n",
       "3                39.0                     1.0                     0.0   \n",
       "4                49.0                     1.0                     0.0   \n",
       "\n",
       "   dst_host_same_src_port_rate  dst_host_srv_diff_host_rate  \\\n",
       "0                         0.11                          0.0   \n",
       "1                         0.05                          0.0   \n",
       "2                         0.03                          0.0   \n",
       "3                         0.03                          0.0   \n",
       "4                         0.02                          0.0   \n",
       "\n",
       "   dst_host_serror_rate  dst_host_srv_serror_rate  dst_host_rerror_rate  \\\n",
       "0                   0.0                       0.0                   0.0   \n",
       "1                   0.0                       0.0                   0.0   \n",
       "2                   0.0                       0.0                   0.0   \n",
       "3                   0.0                       0.0                   0.0   \n",
       "4                   0.0                       0.0                   0.0   \n",
       "\n",
       "   dst_host_srv_rerror_rate  \n",
       "0                       0.0  \n",
       "1                       0.0  \n",
       "2                       0.0  \n",
       "3                       0.0  \n",
       "4                       0.0  \n",
       "\n",
       "[5 rows x 36 columns]"
      ]
     },
     "execution_count": 16,
     "metadata": {},
     "output_type": "execute_result"
    }
   ],
   "source": [
    "#extract all numerical columns and create a dataframe copy for exploration\n",
    "kdd_num_cols = kdd_df.describe().columns\n",
    "kdd_num_df = kdd_df[kdd_num_cols].copy().astype(float)\n",
    "kdd_num_df.head()"
   ]
  },
  {
   "cell_type": "code",
   "execution_count": 17,
   "id": "413e623b",
   "metadata": {},
   "outputs": [
    {
     "data": {
      "image/png": "[encoded data removed]",
      "text/plain": [
       "<Figure size 1728x1728 with 12 Axes>"
      ]
     },
     "metadata": {
      "needs_background": "light"
     },
     "output_type": "display_data"
    }
   ],
   "source": [
    "#we plot 12 of our numerical columns at a time so that they are readable and so that we can inspect any possible outliers\n",
    "fig,axs = plt.subplots(nrows=4,ncols=3,figsize=(24,24))\n",
    "\n",
    "pos = 0\n",
    "\n",
    "for col in kdd_num_df.columns[:12]:    \n",
    "    i = pos//3\n",
    "    j = pos%3 \n",
    "    sns.boxplot(data=kdd_num_df[col],orient='h',ax=axs[i][j])\n",
    "    axs[i][j].set_title(col)\n",
    "    pos+=1"
   ]
  },
  {
   "cell_type": "code",
   "execution_count": 18,
   "id": "efe0b3ee",
   "metadata": {},
   "outputs": [
    {
     "data": {
      "image/png": "[encoded data removed]",
      "text/plain": [
       "<Figure size 1728x1728 with 12 Axes>"
      ]
     },
     "metadata": {
      "needs_background": "light"
     },
     "output_type": "display_data"
    }
   ],
   "source": [
    "fig,axs = plt.subplots(nrows=4,ncols=3,figsize=(24,24))\n",
    "\n",
    "pos = 0\n",
    "\n",
    "for col in kdd_num_df.columns[12:24]:    \n",
    "    i = pos//3\n",
    "    j = pos%3 \n",
    "    sns.boxplot(data=kdd_num_df[col],orient='h',ax=axs[i][j])\n",
    "    axs[i][j].set_title(col)\n",
    "    pos+=1"
   ]
  },
  {
   "cell_type": "code",
   "execution_count": 19,
   "id": "d6e47994",
   "metadata": {},
   "outputs": [
    {
     "data": {
      "image/png": "[encoded data removed]",
      "text/plain": [
       "<Figure size 1728x1728 with 12 Axes>"
      ]
     },
     "metadata": {
      "needs_background": "light"
     },
     "output_type": "display_data"
    }
   ],
   "source": [
    "fig,axs = plt.subplots(nrows=4,ncols=3,figsize=(24,24))\n",
    "\n",
    "pos = 0\n",
    "\n",
    "for col in kdd_num_df.columns[24:36]:    \n",
    "    i = pos//3\n",
    "    j = pos%3 \n",
    "    sns.boxplot(data=kdd_num_df[col],orient='h',ax=axs[i][j])\n",
    "    axs[i][j].set_title(col)\n",
    "    pos+=1"
   ]
  },
  {
   "cell_type": "markdown",
   "id": "3da7a43b",
   "metadata": {},
   "source": [
    "`src_bytes`, `land`, `wrong_fragment`, `urgent`, `num_failed_logins`, `loggined_in`, `root_shell`, `su_attempted`, \n",
    "`num_shells`, and `is_guest_login` stand out as the most anomalous box plots so I try 3 scalings and explore again"
   ]
  },
  {
   "cell_type": "code",
   "execution_count": 20,
   "id": "58332c40",
   "metadata": {},
   "outputs": [],
   "source": [
    "kdd_std_df = kdd_num_df.copy()\n",
    "kdd_norm_df = kdd_num_df.copy()\n",
    "kdd_log_df = kdd_num_df.copy()\n",
    "\n",
    "for col in kdd_std_df:\n",
    "    mu = kdd_std_df[col].mean()\n",
    "    sigma = kdd_std_df[col].std()\n",
    "    \n",
    "    kdd_std_df[col] = (kdd_std_df[col] - mu ) / sigma\n",
    "    \n",
    "for col in kdd_norm_df:\n",
    "    mu = kdd_norm_df[col].min()\n",
    "    sigma = kdd_norm_df[col].max() - mu\n",
    "    \n",
    "    kdd_norm_df[col] = (kdd_norm_df[col] - mu ) / sigma\n",
    "    \n",
    "for col in kdd_log_df:\n",
    "    kdd_log_df[col] = kdd_log_df[col].apply(lambda x: math.log(1+x))"
   ]
  },
  {
   "cell_type": "code",
   "execution_count": 21,
   "id": "cf53ee5b",
   "metadata": {},
   "outputs": [
    {
     "data": {
      "text/plain": [
       "Text(0.5, 1.0, 'Log')"
      ]
     },
     "execution_count": 21,
     "metadata": {},
     "output_type": "execute_result"
    },
    {
     "data": {
      "image/png": "[encoded data removed]",
      "text/plain": [
       "<Figure size 864x288 with 3 Axes>"
      ]
     },
     "metadata": {
      "needs_background": "light"
     },
     "output_type": "display_data"
    }
   ],
   "source": [
    "fig,axs = plt.subplots(figsize=(12,4),ncols=3)\n",
    "\n",
    "\n",
    "sns.boxplot(data=kdd_std_df['src_bytes'],ax=axs[0],orient='h')\n",
    "axs[0].set_title('Standardisation')\n",
    "sns.boxplot(data=kdd_norm_df['src_bytes'],ax=axs[1],orient='h')\n",
    "axs[1].set_title('Normalisation')\n",
    "sns.boxplot(data=kdd_log_df['src_bytes'],ax=axs[2],orient='h')\n",
    "axs[2].set_title('Log')"
   ]
  },
  {
   "cell_type": "markdown",
   "id": "a649eb19",
   "metadata": {},
   "source": [
    "Standardisation keeps a somewhat similar structure as before with the maximum values still far from the min. and IQR. Normalisation is a bit better but all the non-extreme values will be essentially mapped to 0. \n",
    "To see how squished Normalisation values are near 0:"
   ]
  },
  {
   "cell_type": "code",
   "execution_count": 22,
   "id": "8c0f769c",
   "metadata": {},
   "outputs": [
    {
     "name": "stdout",
     "output_type": "stream",
     "text": [
      "1.488371e-06    228035\n",
      "0.000000e+00    115342\n",
      "7.499542e-07     52774\n",
      "1.514331e-07      7370\n",
      "2.120063e-07      2725\n",
      "                 ...  \n",
      "4.095904e-06         1\n",
      "4.493957e-06         1\n",
      "3.455558e-06         1\n",
      "8.938878e-06         1\n",
      "6.801508e-06         1\n",
      "Name: src_bytes, Length: 3300, dtype: int64\n"
     ]
    },
    {
     "data": {
      "text/plain": [
       "<AxesSubplot:>"
      ]
     },
     "execution_count": 22,
     "metadata": {},
     "output_type": "execute_result"
    },
    {
     "data": {
      "image/png": "[encoded data removed]",
      "text/plain": [
       "<Figure size 432x288 with 1 Axes>"
      ]
     },
     "metadata": {
      "needs_background": "light"
     },
     "output_type": "display_data"
    }
   ],
   "source": [
    "print(kdd_norm_df['src_bytes'].sort_values().value_counts())\n",
    "\n",
    "sns.boxplot(data=kdd_norm_df[kdd_norm_df['src_bytes']<1]['src_bytes'],orient='h')"
   ]
  },
  {
   "cell_type": "markdown",
   "id": "b9eee5d9",
   "metadata": {},
   "source": [
    "Log seems to be the best at first glance for our scaling choice but we explore further across all 3 transforms."
   ]
  },
  {
   "cell_type": "code",
   "execution_count": 23,
   "id": "7cff6378",
   "metadata": {},
   "outputs": [
    {
     "data": {
      "image/png": "[encoded data removed]",
      "text/plain": [
       "<Figure size 1728x1152 with 12 Axes>"
      ]
     },
     "metadata": {
      "needs_background": "light"
     },
     "output_type": "display_data"
    }
   ],
   "source": [
    "#these are the columns that seemed most skewed/'anomalous'\n",
    "col_check = ['src_bytes', 'land', 'wrong_fragment', 'urgent', 'num_failed_logins', 'root_shell', 'su_attempted', \n",
    "'num_shells']\n",
    "\n",
    "fig, axs = plt.subplots(figsize=(24,16),nrows=3,ncols=4)   \n",
    "\n",
    "pos = 0\n",
    "\n",
    "#We display each row to correspond to a transform and each column to a feature\n",
    "for n,col in enumerate(col_check[:4]):\n",
    "    for r in range(4):\n",
    "        i = pos%3\n",
    "        j = n\n",
    "\n",
    "        if i == 0:\n",
    "            sns.boxplot(data=kdd_std_df[col],orient='h',ax=axs[i][j])\n",
    "            axs[i][j].set_title('Std'+' '+col)\n",
    "        if i == 1:\n",
    "            sns.boxplot(data=kdd_norm_df[col],orient='h',ax=axs[i][j])\n",
    "            axs[i][j].set_title('Norm'+' '+col)\n",
    "        if i == 2:\n",
    "            sns.boxplot(data=kdd_log_df[col],orient='h',ax=axs[i][j])\n",
    "            axs[i][j].set_title('Log'+' '+col)\n",
    "\n",
    "        pos+=1\n",
    "        \n",
    "plt.savefig('standardised_anomalies_1.png')"
   ]
  },
  {
   "cell_type": "code",
   "execution_count": 24,
   "id": "f2942f22",
   "metadata": {},
   "outputs": [
    {
     "data": {
      "image/png": "[encoded data removed]",
      "text/plain": [
       "<Figure size 1728x1152 with 12 Axes>"
      ]
     },
     "metadata": {
      "needs_background": "light"
     },
     "output_type": "display_data"
    }
   ],
   "source": [
    "fig, axs = plt.subplots(figsize=(24,16),nrows=3,ncols=4)   \n",
    "\n",
    "pos = 0\n",
    "\n",
    "for n,col in enumerate(col_check[4:]):\n",
    "    for r in range(4):\n",
    "        i = pos%3\n",
    "        j = n\n",
    "\n",
    "        if i == 0:\n",
    "            sns.boxplot(data=kdd_std_df[col],orient='h',ax=axs[i][j])\n",
    "            axs[i][j].set_title('Std'+' '+col)\n",
    "        if i == 1:\n",
    "            sns.boxplot(data=kdd_norm_df[col],orient='h',ax=axs[i][j])\n",
    "            axs[i][j].set_title('Norm'+' '+col)\n",
    "        if i == 2:\n",
    "            sns.boxplot(data=kdd_log_df[col],orient='h',ax=axs[i][j])\n",
    "            axs[i][j].set_title('Log'+' '+col)\n",
    "\n",
    "        pos+=1\n",
    "        \n",
    "plt.savefig('standardised_anomalies_2.png')"
   ]
  },
  {
   "cell_type": "code",
   "execution_count": 25,
   "id": "58e3392c",
   "metadata": {},
   "outputs": [
    {
     "data": {
      "text/plain": [
       "<AxesSubplot:>"
      ]
     },
     "execution_count": 25,
     "metadata": {},
     "output_type": "execute_result"
    },
    {
     "data": {
      "image/png": "[encoded data removed]",
      "text/plain": [
       "<Figure size 432x288 with 1 Axes>"
      ]
     },
     "metadata": {
      "needs_background": "light"
     },
     "output_type": "display_data"
    }
   ],
   "source": [
    "sns.boxplot(data=kdd_log_df['duration'],orient='h')"
   ]
  },
  {
   "cell_type": "code",
   "execution_count": 26,
   "id": "b5443ed8",
   "metadata": {},
   "outputs": [],
   "source": [
    "klt = kdd_log_df.describe().transpose()"
   ]
  },
  {
   "cell_type": "markdown",
   "id": "24284b47",
   "metadata": {},
   "source": [
    "We check to see if we scaled values to lie in close intervals to one another.<br></br>\n",
    "**Heuristic: -1/3 to 1/3 if small values, -3 to 3 if larger values, equivalent 0 to 6.**<br></br>\n",
    "All our values are non-negative, we check which ones have max above 6."
   ]
  },
  {
   "cell_type": "code",
   "execution_count": 27,
   "id": "08d506a9",
   "metadata": {},
   "outputs": [
    {
     "data": {
      "text/html": [
       "<div>\n",
       "<style scoped>\n",
       "    .dataframe tbody tr th:only-of-type {\n",
       "        vertical-align: middle;\n",
       "    }\n",
       "\n",
       "    .dataframe tbody tr th {\n",
       "        vertical-align: top;\n",
       "    }\n",
       "\n",
       "    .dataframe thead th {\n",
       "        text-align: right;\n",
       "    }\n",
       "</style>\n",
       "<table border=\"1\" class=\"dataframe\">\n",
       "  <thead>\n",
       "    <tr style=\"text-align: right;\">\n",
       "      <th></th>\n",
       "      <th>count</th>\n",
       "      <th>mean</th>\n",
       "      <th>std</th>\n",
       "      <th>min</th>\n",
       "      <th>25%</th>\n",
       "      <th>50%</th>\n",
       "      <th>75%</th>\n",
       "      <th>max</th>\n",
       "    </tr>\n",
       "  </thead>\n",
       "  <tbody>\n",
       "    <tr>\n",
       "      <th>src_bytes</th>\n",
       "      <td>494021.0</td>\n",
       "      <td>4.978740</td>\n",
       "      <td>2.863505</td>\n",
       "      <td>0.0</td>\n",
       "      <td>3.828641</td>\n",
       "      <td>6.25575</td>\n",
       "      <td>6.940222</td>\n",
       "      <td>20.357082</td>\n",
       "    </tr>\n",
       "    <tr>\n",
       "      <th>dst_bytes</th>\n",
       "      <td>494021.0</td>\n",
       "      <td>1.182156</td>\n",
       "      <td>2.667729</td>\n",
       "      <td>0.0</td>\n",
       "      <td>0.000000</td>\n",
       "      <td>0.00000</td>\n",
       "      <td>0.000000</td>\n",
       "      <td>15.455569</td>\n",
       "    </tr>\n",
       "    <tr>\n",
       "      <th>duration</th>\n",
       "      <td>494021.0</td>\n",
       "      <td>0.104682</td>\n",
       "      <td>0.833807</td>\n",
       "      <td>0.0</td>\n",
       "      <td>0.000000</td>\n",
       "      <td>0.00000</td>\n",
       "      <td>0.000000</td>\n",
       "      <td>10.973872</td>\n",
       "    </tr>\n",
       "    <tr>\n",
       "      <th>num_root</th>\n",
       "      <td>494021.0</td>\n",
       "      <td>0.001843</td>\n",
       "      <td>0.060987</td>\n",
       "      <td>0.0</td>\n",
       "      <td>0.000000</td>\n",
       "      <td>0.00000</td>\n",
       "      <td>0.000000</td>\n",
       "      <td>6.901737</td>\n",
       "    </tr>\n",
       "    <tr>\n",
       "      <th>num_compromised</th>\n",
       "      <td>494021.0</td>\n",
       "      <td>0.003304</td>\n",
       "      <td>0.053720</td>\n",
       "      <td>0.0</td>\n",
       "      <td>0.000000</td>\n",
       "      <td>0.00000</td>\n",
       "      <td>0.000000</td>\n",
       "      <td>6.785588</td>\n",
       "    </tr>\n",
       "    <tr>\n",
       "      <th>count</th>\n",
       "      <td>494021.0</td>\n",
       "      <td>5.020404</td>\n",
       "      <td>1.882039</td>\n",
       "      <td>0.0</td>\n",
       "      <td>4.770685</td>\n",
       "      <td>6.23637</td>\n",
       "      <td>6.238325</td>\n",
       "      <td>6.238325</td>\n",
       "    </tr>\n",
       "    <tr>\n",
       "      <th>srv_count</th>\n",
       "      <td>494021.0</td>\n",
       "      <td>4.427168</td>\n",
       "      <td>2.154978</td>\n",
       "      <td>0.0</td>\n",
       "      <td>2.397895</td>\n",
       "      <td>6.23637</td>\n",
       "      <td>6.238325</td>\n",
       "      <td>6.238325</td>\n",
       "    </tr>\n",
       "  </tbody>\n",
       "</table>\n",
       "</div>"
      ],
      "text/plain": [
       "                    count      mean       std  min       25%      50%  \\\n",
       "src_bytes        494021.0  4.978740  2.863505  0.0  3.828641  6.25575   \n",
       "dst_bytes        494021.0  1.182156  2.667729  0.0  0.000000  0.00000   \n",
       "duration         494021.0  0.104682  0.833807  0.0  0.000000  0.00000   \n",
       "num_root         494021.0  0.001843  0.060987  0.0  0.000000  0.00000   \n",
       "num_compromised  494021.0  0.003304  0.053720  0.0  0.000000  0.00000   \n",
       "count            494021.0  5.020404  1.882039  0.0  4.770685  6.23637   \n",
       "srv_count        494021.0  4.427168  2.154978  0.0  2.397895  6.23637   \n",
       "\n",
       "                      75%        max  \n",
       "src_bytes        6.940222  20.357082  \n",
       "dst_bytes        0.000000  15.455569  \n",
       "duration         0.000000  10.973872  \n",
       "num_root         0.000000   6.901737  \n",
       "num_compromised  0.000000   6.785588  \n",
       "count            6.238325   6.238325  \n",
       "srv_count        6.238325   6.238325  "
      ]
     },
     "execution_count": 27,
     "metadata": {},
     "output_type": "execute_result"
    }
   ],
   "source": [
    "klt[klt['max']>6].sort_values('max',ascending=False)"
   ]
  },
  {
   "cell_type": "markdown",
   "id": "63521104",
   "metadata": {},
   "source": [
    "There may be justification to scale these values more so that they are closer to one another/more similar. Normalisation does this (in fact, it will set all our values to lie strictly in [0,1]) but we end up with very small values near 0 for most our data/quantiles when we have features that have largely skewed data e.g. `src_bytes`\n",
    "\n",
    "However, I decide to keep the log-transform as is and not scale it any further for now and instead explore how it will perform on a number of different classifiers."
   ]
  },
  {
   "cell_type": "markdown",
   "id": "1c697358",
   "metadata": {},
   "source": [
    "## OOPS!"
   ]
  },
  {
   "cell_type": "markdown",
   "id": "f8b86fe9",
   "metadata": {},
   "source": [
    "So, I realised that some of the data was binary and/or specifically discrete and I think I transformed them which may or not cause some issues... Basically:"
   ]
  },
  {
   "cell_type": "code",
   "execution_count": 28,
   "id": "c0dd5cf8",
   "metadata": {},
   "outputs": [
    {
     "name": "stdout",
     "output_type": "stream",
     "text": [
      "---land---\n",
      "0    493999\n",
      "1        22\n",
      "Name: land, dtype: int64\n",
      "\n",
      "---wrong_fragment---\n",
      "0    492783\n",
      "3       970\n",
      "1       268\n",
      "Name: wrong_fragment, dtype: int64\n",
      "\n",
      "---logged_in---\n",
      "0    420784\n",
      "1     73237\n",
      "Name: logged_in, dtype: int64\n",
      "\n",
      "---root_shell---\n",
      "0    493966\n",
      "1        55\n",
      "Name: root_shell, dtype: int64\n",
      "\n",
      "---su_attempted---\n",
      "0    494009\n",
      "1         6\n",
      "2         6\n",
      "Name: su_attempted, dtype: int64\n",
      "\n",
      "---num_shells---\n",
      "0    493970\n",
      "1        48\n",
      "2         3\n",
      "Name: num_shells, dtype: int64\n",
      "\n",
      "---is_guest_login---\n",
      "0    493336\n",
      "1       685\n",
      "Name: is_guest_login, dtype: int64\n",
      "\n"
     ]
    }
   ],
   "source": [
    "for c in kdd_df:\n",
    "    col = kdd_df[c]\n",
    "    \n",
    "    if (col.dtype == np.int64 or col.dtype == np.float64) and col.nunique()<4:\n",
    "        print('---'+c+'---')\n",
    "        print(col.value_counts())\n",
    "        print()"
   ]
  },
  {
   "cell_type": "markdown",
   "id": "690af924",
   "metadata": {},
   "source": [
    "So I just need to revisit the data feature meanings again to get better understanding of wtf is going on lol. I'll sort this out during/after the weekend and then start running the models."
   ]
  }
 ],
 "metadata": {
  "kernelspec": {
   "display_name": "Python 3",
   "language": "python",
   "name": "python3"
  },
  "language_info": {
   "codemirror_mode": {
    "name": "ipython",
    "version": 3
   },
   "file_extension": ".py",
   "mimetype": "text/x-python",
   "name": "python",
   "nbconvert_exporter": "python",
   "pygments_lexer": "ipython3",
   "version": "3.8.8"
  }
 },
 "nbformat": 4,
 "nbformat_minor": 5
}
